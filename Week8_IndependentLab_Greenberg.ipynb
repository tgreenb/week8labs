{
 "cells": [
  {
   "cell_type": "markdown",
   "id": "ef91b12a-9bbf-4e71-91dd-096487118ab9",
   "metadata": {},
   "source": [
    "# Week 8 Independent Lab: Advanced Data Manipulation  \n",
    "**Author:** Thomas J. Greenberg  \n",
    "**Course:** BGEN632 – Graduate Introduction to Python  \n",
    "**Term:** Spring 2025  \n",
    "**Date:** April 18, 2025\n",
    "\n",
    "---\n",
    "\n",
    "## Introduction\n",
    "\n",
    "In this lab, we use `pandas` to practice advanced data manipulation skills, including filtering, querying, and renaming columns.  \n",
    "\n",
    "**Tools & Methods** \n",
    "\n",
    "We will use `pandas` functions—such as `.filter()`, `.query()`, `.assign()`, and `.rename()`—along with **method chaining**, which allows multiple operations to be written in a clean, pipeline. Each task is broken\n",
    "into manageable steps.\n",
    "\n",
    "**Dataset** \n",
    "\n",
    "The dataset used in this lab includes information from four open-source GitHub projects.  \n",
    "These projects were selected from a larger research study of over 22,000 repositories analyzed\n",
    "by Vasilescu et al. (2015).  \n",
    "Each row includes project- and contributor-level information captured over discrete time periods.\n",
    "\n",
    "  \n"
   ]
  },
  {
   "cell_type": "code",
   "execution_count": 1,
   "id": "dd92b366-a0ba-4d1c-98b1-5917a8fc0570",
   "metadata": {},
   "outputs": [
    {
     "name": "stdout",
     "output_type": "stream",
     "text": [
      "<class 'pandas.core.frame.DataFrame'>\n",
      "RangeIndex: 473 entries, 0 to 472\n",
      "Data columns (total 16 columns):\n",
      " #   Column         Non-Null Count  Dtype  \n",
      "---  ------         --------------  -----  \n",
      " 0   project_id     473 non-null    int64  \n",
      " 1   domain         473 non-null    object \n",
      " 2   language       473 non-null    object \n",
      " 3   windows        473 non-null    int64  \n",
      " 4   window_idx     473 non-null    int64  \n",
      " 5   num_team       473 non-null    int64  \n",
      " 6   num_commits    473 non-null    int64  \n",
      " 7   blau_gender    473 non-null    float64\n",
      " 8   Gini_gh_ten    473 non-null    float64\n",
      " 9   user_id        473 non-null    int64  \n",
      " 10  Core1          473 non-null    int64  \n",
      " 11  commits        473 non-null    int64  \n",
      " 12  propCommits    473 non-null    float64\n",
      " 13  gender         449 non-null    object \n",
      " 14  github_tenure  473 non-null    int64  \n",
      " 15  leavesNextQ    473 non-null    int64  \n",
      "dtypes: float64(3), int64(10), object(3)\n",
      "memory usage: 59.3+ KB\n"
     ]
    }
   ],
   "source": [
    "import pandas as pd\n",
    "\n",
    "# Load dataset using local path\n",
    "path = \"C:/MySystem/School/Python/GitHubStuff/week8labs/data/gh_turnover_four_projects.csv\"\n",
    "df = pd.read_csv(path)\n",
    "\n",
    "# View structure and column data types of the dataset\n",
    "df.info()\n",
    "\n",
    "# Create a working copy\n",
    "df_copy = df.copy()\n"
   ]
  },
  {
   "cell_type": "markdown",
   "id": "2c693efe-2eb3-4c9c-8729-6afbb4634a36",
   "metadata": {},
   "source": [
    "---"
   ]
  },
  {
   "cell_type": "markdown",
   "id": "8a004337-dd8b-4aa3-a44b-daefca3b00a7",
   "metadata": {},
   "source": [
    "### Task 2.1 – Rename Columns  \n",
    "Apply the specified column renaming scheme using `rename()`. Then confirm the new names.  \n"
   ]
  },
  {
   "cell_type": "code",
   "execution_count": 2,
   "id": "3a9f1b79-a537-4bfa-b459-120ee1094572",
   "metadata": {},
   "outputs": [
    {
     "data": {
      "text/plain": [
       "Index(['project_id', 'project_domain', 'project_language', 'project_age',\n",
       "       'quarter', 'team_size', 'project_commits', 'gender_blau',\n",
       "       'gh_tenure_gini', 'user_id', 'core_dev', 'user_commits',\n",
       "       'commit_proportion', 'gender', 'gh_tenure', 'leaves_next_q'],\n",
       "      dtype='object')"
      ]
     },
     "execution_count": 2,
     "metadata": {},
     "output_type": "execute_result"
    }
   ],
   "source": [
    "df_renamed = df_copy.rename(columns={\n",
    "    'domain': 'project_domain',\n",
    "    'language': 'project_language',\n",
    "    'windows': 'project_age',\n",
    "    'window_idx': 'quarter',\n",
    "    'num_team': 'team_size',\n",
    "    'num_commits': 'project_commits',\n",
    "    'blau_gender': 'gender_blau',\n",
    "    'Gini_gh_ten': 'gh_tenure_gini',\n",
    "    'Core1': 'core_dev',\n",
    "    'commits': 'user_commits',\n",
    "    'propCommits': 'commit_proportion',\n",
    "    'github_tenure': 'gh_tenure',\n",
    "    'leavesNextQ': 'leaves_next_q'\n",
    "})\n",
    "\n",
    "df_renamed.columns"
   ]
  },
  {
   "cell_type": "markdown",
   "id": "e4571153-2002-405f-bd67-8ce384a3e22e",
   "metadata": {},
   "source": [
    "### Task 2.2 – Mean of `user_commits`  \n",
    "Calculate the mean value for the `user_commits` column."
   ]
  },
  {
   "cell_type": "code",
   "execution_count": 3,
   "id": "b1b77a9d-5229-4f8f-ad23-d0da7170b0ca",
   "metadata": {},
   "outputs": [
    {
     "data": {
      "text/plain": [
       "np.float64(339.36575052854124)"
      ]
     },
     "execution_count": 3,
     "metadata": {},
     "output_type": "execute_result"
    }
   ],
   "source": [
    "df_renamed['user_commits'].mean()"
   ]
  },
  {
   "cell_type": "markdown",
   "id": "afbe4d81-f79c-4250-b5f0-a7c8fbf560b9",
   "metadata": {},
   "source": [
    "### Task 2.3 – Median of `user_commits`  \n",
    "Calculate the median value for the `user_commits` column."
   ]
  },
  {
   "cell_type": "code",
   "execution_count": 4,
   "id": "80c7cee1-e6de-4b2b-a96e-afb141860654",
   "metadata": {},
   "outputs": [
    {
     "data": {
      "text/plain": [
       "np.float64(18.0)"
      ]
     },
     "execution_count": 4,
     "metadata": {},
     "output_type": "execute_result"
    }
   ],
   "source": [
    "df_renamed['user_commits'].median()"
   ]
  },
  {
   "cell_type": "markdown",
   "id": "e4adf7e0-e4a0-4183-8dcf-e7927c6c21f4",
   "metadata": {},
   "source": [
    "### Task 2.4 – Select Columns with Regex `(^p)` or `(g)`  \n",
    "Use `filter()` to select columns that start with **p** or contain **g**.  \n",
    "Save the result as a new DataFrame called `turnover_new` and preview its columns."
   ]
  },
  {
   "cell_type": "code",
   "execution_count": 5,
   "id": "f91f2027-7a8a-46fc-9dd9-deb4270982c2",
   "metadata": {},
   "outputs": [
    {
     "data": {
      "text/html": [
       "<div>\n",
       "<style scoped>\n",
       "    .dataframe tbody tr th:only-of-type {\n",
       "        vertical-align: middle;\n",
       "    }\n",
       "\n",
       "    .dataframe tbody tr th {\n",
       "        vertical-align: top;\n",
       "    }\n",
       "\n",
       "    .dataframe thead th {\n",
       "        text-align: right;\n",
       "    }\n",
       "</style>\n",
       "<table border=\"1\" class=\"dataframe\">\n",
       "  <thead>\n",
       "    <tr style=\"text-align: right;\">\n",
       "      <th></th>\n",
       "      <th>project_id</th>\n",
       "      <th>project_domain</th>\n",
       "      <th>project_language</th>\n",
       "      <th>project_age</th>\n",
       "      <th>project_commits</th>\n",
       "      <th>gender_blau</th>\n",
       "      <th>gh_tenure_gini</th>\n",
       "      <th>gender</th>\n",
       "      <th>gh_tenure</th>\n",
       "    </tr>\n",
       "  </thead>\n",
       "  <tbody>\n",
       "    <tr>\n",
       "      <th>0</th>\n",
       "      <td>1101</td>\n",
       "      <td>OTHER</td>\n",
       "      <td>Python</td>\n",
       "      <td>23</td>\n",
       "      <td>22688</td>\n",
       "      <td>0.0</td>\n",
       "      <td>0.422259</td>\n",
       "      <td>male</td>\n",
       "      <td>426</td>\n",
       "    </tr>\n",
       "    <tr>\n",
       "      <th>1</th>\n",
       "      <td>1101</td>\n",
       "      <td>OTHER</td>\n",
       "      <td>Python</td>\n",
       "      <td>23</td>\n",
       "      <td>22688</td>\n",
       "      <td>0.0</td>\n",
       "      <td>0.422259</td>\n",
       "      <td>male</td>\n",
       "      <td>46</td>\n",
       "    </tr>\n",
       "    <tr>\n",
       "      <th>2</th>\n",
       "      <td>1101</td>\n",
       "      <td>OTHER</td>\n",
       "      <td>Python</td>\n",
       "      <td>23</td>\n",
       "      <td>22688</td>\n",
       "      <td>0.0</td>\n",
       "      <td>0.422259</td>\n",
       "      <td>male</td>\n",
       "      <td>941</td>\n",
       "    </tr>\n",
       "    <tr>\n",
       "      <th>3</th>\n",
       "      <td>1101</td>\n",
       "      <td>OTHER</td>\n",
       "      <td>Python</td>\n",
       "      <td>23</td>\n",
       "      <td>22688</td>\n",
       "      <td>0.0</td>\n",
       "      <td>0.422259</td>\n",
       "      <td>male</td>\n",
       "      <td>1870</td>\n",
       "    </tr>\n",
       "    <tr>\n",
       "      <th>4</th>\n",
       "      <td>1101</td>\n",
       "      <td>OTHER</td>\n",
       "      <td>Python</td>\n",
       "      <td>23</td>\n",
       "      <td>22688</td>\n",
       "      <td>0.0</td>\n",
       "      <td>0.422259</td>\n",
       "      <td>male</td>\n",
       "      <td>781</td>\n",
       "    </tr>\n",
       "  </tbody>\n",
       "</table>\n",
       "</div>"
      ],
      "text/plain": [
       "   project_id project_domain project_language  project_age  project_commits  \\\n",
       "0        1101          OTHER           Python           23            22688   \n",
       "1        1101          OTHER           Python           23            22688   \n",
       "2        1101          OTHER           Python           23            22688   \n",
       "3        1101          OTHER           Python           23            22688   \n",
       "4        1101          OTHER           Python           23            22688   \n",
       "\n",
       "   gender_blau  gh_tenure_gini gender  gh_tenure  \n",
       "0          0.0        0.422259   male        426  \n",
       "1          0.0        0.422259   male         46  \n",
       "2          0.0        0.422259   male        941  \n",
       "3          0.0        0.422259   male       1870  \n",
       "4          0.0        0.422259   male        781  "
      ]
     },
     "execution_count": 5,
     "metadata": {},
     "output_type": "execute_result"
    }
   ],
   "source": [
    "turnover_new = df_renamed.filter(regex='(^p)|(g)')\n",
    "turnover_new.head()"
   ]
  },
  {
   "cell_type": "markdown",
   "id": "7245d50b-0e35-4b8d-bfed-a9989e37ae0e",
   "metadata": {},
   "source": [
    "### Task 2.5 – Filter `turnover_new` for `project_commits` > 9000  \n",
    "Use `query()` on the `turnover_new` DataFrame to filter rows where  \n",
    "`project_commits` is greater than 9000. Preview the result.\n"
   ]
  },
  {
   "cell_type": "code",
   "execution_count": 6,
   "id": "d9ca060a-c6bf-4fcd-8a82-83e1c4abfeb8",
   "metadata": {},
   "outputs": [
    {
     "data": {
      "text/html": [
       "<div>\n",
       "<style scoped>\n",
       "    .dataframe tbody tr th:only-of-type {\n",
       "        vertical-align: middle;\n",
       "    }\n",
       "\n",
       "    .dataframe tbody tr th {\n",
       "        vertical-align: top;\n",
       "    }\n",
       "\n",
       "    .dataframe thead th {\n",
       "        text-align: right;\n",
       "    }\n",
       "</style>\n",
       "<table border=\"1\" class=\"dataframe\">\n",
       "  <thead>\n",
       "    <tr style=\"text-align: right;\">\n",
       "      <th></th>\n",
       "      <th>project_id</th>\n",
       "      <th>project_domain</th>\n",
       "      <th>project_language</th>\n",
       "      <th>project_age</th>\n",
       "      <th>project_commits</th>\n",
       "      <th>gender_blau</th>\n",
       "      <th>gh_tenure_gini</th>\n",
       "      <th>gender</th>\n",
       "      <th>gh_tenure</th>\n",
       "    </tr>\n",
       "  </thead>\n",
       "  <tbody>\n",
       "    <tr>\n",
       "      <th>0</th>\n",
       "      <td>1101</td>\n",
       "      <td>OTHER</td>\n",
       "      <td>Python</td>\n",
       "      <td>23</td>\n",
       "      <td>22688</td>\n",
       "      <td>0.0</td>\n",
       "      <td>0.422259</td>\n",
       "      <td>male</td>\n",
       "      <td>426</td>\n",
       "    </tr>\n",
       "    <tr>\n",
       "      <th>1</th>\n",
       "      <td>1101</td>\n",
       "      <td>OTHER</td>\n",
       "      <td>Python</td>\n",
       "      <td>23</td>\n",
       "      <td>22688</td>\n",
       "      <td>0.0</td>\n",
       "      <td>0.422259</td>\n",
       "      <td>male</td>\n",
       "      <td>46</td>\n",
       "    </tr>\n",
       "    <tr>\n",
       "      <th>2</th>\n",
       "      <td>1101</td>\n",
       "      <td>OTHER</td>\n",
       "      <td>Python</td>\n",
       "      <td>23</td>\n",
       "      <td>22688</td>\n",
       "      <td>0.0</td>\n",
       "      <td>0.422259</td>\n",
       "      <td>male</td>\n",
       "      <td>941</td>\n",
       "    </tr>\n",
       "    <tr>\n",
       "      <th>3</th>\n",
       "      <td>1101</td>\n",
       "      <td>OTHER</td>\n",
       "      <td>Python</td>\n",
       "      <td>23</td>\n",
       "      <td>22688</td>\n",
       "      <td>0.0</td>\n",
       "      <td>0.422259</td>\n",
       "      <td>male</td>\n",
       "      <td>1870</td>\n",
       "    </tr>\n",
       "    <tr>\n",
       "      <th>4</th>\n",
       "      <td>1101</td>\n",
       "      <td>OTHER</td>\n",
       "      <td>Python</td>\n",
       "      <td>23</td>\n",
       "      <td>22688</td>\n",
       "      <td>0.0</td>\n",
       "      <td>0.422259</td>\n",
       "      <td>male</td>\n",
       "      <td>781</td>\n",
       "    </tr>\n",
       "  </tbody>\n",
       "</table>\n",
       "</div>"
      ],
      "text/plain": [
       "   project_id project_domain project_language  project_age  project_commits  \\\n",
       "0        1101          OTHER           Python           23            22688   \n",
       "1        1101          OTHER           Python           23            22688   \n",
       "2        1101          OTHER           Python           23            22688   \n",
       "3        1101          OTHER           Python           23            22688   \n",
       "4        1101          OTHER           Python           23            22688   \n",
       "\n",
       "   gender_blau  gh_tenure_gini gender  gh_tenure  \n",
       "0          0.0        0.422259   male        426  \n",
       "1          0.0        0.422259   male         46  \n",
       "2          0.0        0.422259   male        941  \n",
       "3          0.0        0.422259   male       1870  \n",
       "4          0.0        0.422259   male        781  "
      ]
     },
     "execution_count": 6,
     "metadata": {},
     "output_type": "execute_result"
    }
   ],
   "source": [
    "turnover_new.query(\"project_commits > 9000\").head()"
   ]
  },
  {
   "cell_type": "markdown",
   "id": "45c3fb6e-3562-41e7-9fb9-fa3a881b2427",
   "metadata": {},
   "source": [
    "### Task 2.6 – Combine Tasks 2.4 and 2.5 Using Piping  \n",
    "Chain your column filtering and row filtering steps into one.  \n",
    "Save the result as a new DataFrame named `turnover_newer`.\n"
   ]
  },
  {
   "cell_type": "code",
   "execution_count": 7,
   "id": "f06a0b03-6dcc-4fb7-a888-bb1077e938cd",
   "metadata": {},
   "outputs": [
    {
     "data": {
      "text/html": [
       "<div>\n",
       "<style scoped>\n",
       "    .dataframe tbody tr th:only-of-type {\n",
       "        vertical-align: middle;\n",
       "    }\n",
       "\n",
       "    .dataframe tbody tr th {\n",
       "        vertical-align: top;\n",
       "    }\n",
       "\n",
       "    .dataframe thead th {\n",
       "        text-align: right;\n",
       "    }\n",
       "</style>\n",
       "<table border=\"1\" class=\"dataframe\">\n",
       "  <thead>\n",
       "    <tr style=\"text-align: right;\">\n",
       "      <th></th>\n",
       "      <th>project_id</th>\n",
       "      <th>project_domain</th>\n",
       "      <th>project_language</th>\n",
       "      <th>project_age</th>\n",
       "      <th>project_commits</th>\n",
       "      <th>gender_blau</th>\n",
       "      <th>gh_tenure_gini</th>\n",
       "      <th>gender</th>\n",
       "      <th>gh_tenure</th>\n",
       "    </tr>\n",
       "  </thead>\n",
       "  <tbody>\n",
       "    <tr>\n",
       "      <th>0</th>\n",
       "      <td>1101</td>\n",
       "      <td>OTHER</td>\n",
       "      <td>Python</td>\n",
       "      <td>23</td>\n",
       "      <td>22688</td>\n",
       "      <td>0.0</td>\n",
       "      <td>0.422259</td>\n",
       "      <td>male</td>\n",
       "      <td>426</td>\n",
       "    </tr>\n",
       "    <tr>\n",
       "      <th>1</th>\n",
       "      <td>1101</td>\n",
       "      <td>OTHER</td>\n",
       "      <td>Python</td>\n",
       "      <td>23</td>\n",
       "      <td>22688</td>\n",
       "      <td>0.0</td>\n",
       "      <td>0.422259</td>\n",
       "      <td>male</td>\n",
       "      <td>46</td>\n",
       "    </tr>\n",
       "    <tr>\n",
       "      <th>2</th>\n",
       "      <td>1101</td>\n",
       "      <td>OTHER</td>\n",
       "      <td>Python</td>\n",
       "      <td>23</td>\n",
       "      <td>22688</td>\n",
       "      <td>0.0</td>\n",
       "      <td>0.422259</td>\n",
       "      <td>male</td>\n",
       "      <td>941</td>\n",
       "    </tr>\n",
       "    <tr>\n",
       "      <th>3</th>\n",
       "      <td>1101</td>\n",
       "      <td>OTHER</td>\n",
       "      <td>Python</td>\n",
       "      <td>23</td>\n",
       "      <td>22688</td>\n",
       "      <td>0.0</td>\n",
       "      <td>0.422259</td>\n",
       "      <td>male</td>\n",
       "      <td>1870</td>\n",
       "    </tr>\n",
       "    <tr>\n",
       "      <th>4</th>\n",
       "      <td>1101</td>\n",
       "      <td>OTHER</td>\n",
       "      <td>Python</td>\n",
       "      <td>23</td>\n",
       "      <td>22688</td>\n",
       "      <td>0.0</td>\n",
       "      <td>0.422259</td>\n",
       "      <td>male</td>\n",
       "      <td>781</td>\n",
       "    </tr>\n",
       "  </tbody>\n",
       "</table>\n",
       "</div>"
      ],
      "text/plain": [
       "   project_id project_domain project_language  project_age  project_commits  \\\n",
       "0        1101          OTHER           Python           23            22688   \n",
       "1        1101          OTHER           Python           23            22688   \n",
       "2        1101          OTHER           Python           23            22688   \n",
       "3        1101          OTHER           Python           23            22688   \n",
       "4        1101          OTHER           Python           23            22688   \n",
       "\n",
       "   gender_blau  gh_tenure_gini gender  gh_tenure  \n",
       "0          0.0        0.422259   male        426  \n",
       "1          0.0        0.422259   male         46  \n",
       "2          0.0        0.422259   male        941  \n",
       "3          0.0        0.422259   male       1870  \n",
       "4          0.0        0.422259   male        781  "
      ]
     },
     "execution_count": 7,
     "metadata": {},
     "output_type": "execute_result"
    }
   ],
   "source": [
    "turnover_newer = (\n",
    "    df_renamed\n",
    "      .filter(regex='(^p)|(g)')\n",
    "      .query(\"project_commits > 9000\")\n",
    ")\n",
    "turnover_newer.head()"
   ]
  },
  {
   "cell_type": "markdown",
   "id": "37abf684-ee23-4e59-8b7e-85bb2dc50316",
   "metadata": {},
   "source": [
    "### Task 2.7 – Select Columns with `e$` or `s` and `gh_tenure >= 1991`\n",
    "\n",
    "Use pandas piping to:\n",
    "\n",
    "- **Filter columns** that end in the letter `e` (`e$`) or contain `s`\n",
    "- **Select rows** where `gh_tenure >= 1991`\n",
    "\n",
    "Save the result and preview the first five rows."
   ]
  },
  {
   "cell_type": "code",
   "execution_count": 8,
   "id": "36578b09-cc99-4ec9-885a-a90827118962",
   "metadata": {},
   "outputs": [
    {
     "data": {
      "text/html": [
       "<div>\n",
       "<style scoped>\n",
       "    .dataframe tbody tr th:only-of-type {\n",
       "        vertical-align: middle;\n",
       "    }\n",
       "\n",
       "    .dataframe tbody tr th {\n",
       "        vertical-align: top;\n",
       "    }\n",
       "\n",
       "    .dataframe thead th {\n",
       "        text-align: right;\n",
       "    }\n",
       "</style>\n",
       "<table border=\"1\" class=\"dataframe\">\n",
       "  <thead>\n",
       "    <tr style=\"text-align: right;\">\n",
       "      <th></th>\n",
       "      <th>project_language</th>\n",
       "      <th>project_age</th>\n",
       "      <th>team_size</th>\n",
       "      <th>project_commits</th>\n",
       "      <th>user_id</th>\n",
       "      <th>user_commits</th>\n",
       "      <th>gh_tenure</th>\n",
       "      <th>leaves_next_q</th>\n",
       "    </tr>\n",
       "  </thead>\n",
       "  <tbody>\n",
       "    <tr>\n",
       "      <th>339</th>\n",
       "      <td>Java</td>\n",
       "      <td>16</td>\n",
       "      <td>2</td>\n",
       "      <td>7</td>\n",
       "      <td>33272</td>\n",
       "      <td>6</td>\n",
       "      <td>2006</td>\n",
       "      <td>0</td>\n",
       "    </tr>\n",
       "    <tr>\n",
       "      <th>457</th>\n",
       "      <td>Python</td>\n",
       "      <td>23</td>\n",
       "      <td>20</td>\n",
       "      <td>3070</td>\n",
       "      <td>88459</td>\n",
       "      <td>1</td>\n",
       "      <td>2054</td>\n",
       "      <td>0</td>\n",
       "    </tr>\n",
       "  </tbody>\n",
       "</table>\n",
       "</div>"
      ],
      "text/plain": [
       "    project_language  project_age  team_size  project_commits  user_id  \\\n",
       "339             Java           16          2                7    33272   \n",
       "457           Python           23         20             3070    88459   \n",
       "\n",
       "     user_commits  gh_tenure  leaves_next_q  \n",
       "339             6       2006              0  \n",
       "457             1       2054              0  "
      ]
     },
     "execution_count": 8,
     "metadata": {},
     "output_type": "execute_result"
    }
   ],
   "source": [
    "tenure_filtered_df = (\n",
    "    df_renamed\n",
    "      .filter(regex='(e$)|(s)')\n",
    "      .query(\"gh_tenure >= 1991\")\n",
    ")\n",
    "\n",
    "tenure_filtered_df.head()"
   ]
  },
  {
   "cell_type": "markdown",
   "id": "844e06dd-2ad8-4cf0-bb79-92932919bb18",
   "metadata": {},
   "source": [
    "### Task 2.8 – Mean and Median of `user_commits` from Previous Query (Filtered Set)  \n",
    "\n",
    "Use the same piped query again, but calculate:  \n",
    "\n",
    "- `mean()` of `user_commits`\n",
    "\n",
    "  and,\n",
    "  \n",
    "- `median()` of `user_commits`  \n"
   ]
  },
  {
   "cell_type": "code",
   "execution_count": 9,
   "id": "19cd570e-6c30-4e4f-bb3c-d0b10b929c28",
   "metadata": {},
   "outputs": [
    {
     "data": {
      "text/plain": [
       "np.float64(3.5)"
      ]
     },
     "execution_count": 9,
     "metadata": {},
     "output_type": "execute_result"
    }
   ],
   "source": [
    "tenure_filtered_df['user_commits'].mean()  "
   ]
  },
  {
   "cell_type": "code",
   "execution_count": 10,
   "id": "0a0eeb0c-3529-4dbb-a7f2-b34103f314b7",
   "metadata": {},
   "outputs": [
    {
     "data": {
      "text/plain": [
       "np.float64(3.5)"
      ]
     },
     "execution_count": 10,
     "metadata": {},
     "output_type": "execute_result"
    }
   ],
   "source": [
    "tenure_filtered_df['user_commits'].median()  "
   ]
  },
  {
   "cell_type": "markdown",
   "id": "aaa53512-15d8-4781-b547-eebe54e8b587",
   "metadata": {},
   "source": [
    "### Final Thoughts\n",
    "\n",
    "The teams we filtered — those with higher GitHub tenure and specific column characteristics — revealed an interesting trend:\n",
    "\n",
    "- The **average (`mean`) number of user commits** was **higher**\n",
    "- The **middle value (`median`) of user commits** was **lower** than in the overall dataset\n",
    "\n",
    "This indicates that while a few contributors made a large number of commits, the majority of users contributed far less. Such imbalances are common in collaborative projects, where a small group of highly active participants often account for most of the activity; a pattern similar to the Pareto Principle, where a small percentage of contributors (often ~20%) are responsible for a large portion of the output (Pareto, 1896).\n",
    "\n"
   ]
  },
  {
   "cell_type": "markdown",
   "id": "334181fe-f7bb-496c-9b84-e0b994f55fd7",
   "metadata": {},
   "source": [
    "## References\n",
    "\n",
    "- Week 8 Independent Lab Instructions, BGEN632 (Spring 2025), Instructor: Prof. Olivia Newton  \n",
    "- pandas documentation: https://pandas.pydata.org/docs/  \n",
    "- GitHub turnover dataset (course-provided): `gh_turnover_four_projects.csv`\n",
    "- Pareto, V. (1896). *Cours d’économie politique*. Lausanne: F. Rouge.\n",
    "  Background and usage context: https://en.wikipedia.org/wiki/Pareto_principle  \n",
    "- **Q&A derived from in-session troubleshooting** — visual reference captured from GPT guidance, addressing `.rename()`, regex filtering with `(^p)|(g)`, and `.query()` chaining with `.mean()`/`.median()`.\n",
    "- \n",
    "  \n",
    "  ![Reference Q&A](assets/RefGPT2.png)"
   ]
  },
  {
   "cell_type": "code",
   "execution_count": null,
   "id": "3c7ef30b-826c-4c05-a843-14645b36dd14",
   "metadata": {},
   "outputs": [],
   "source": []
  }
 ],
 "metadata": {
  "kernelspec": {
   "display_name": "Python 3 (ipykernel)",
   "language": "python",
   "name": "python3"
  },
  "language_info": {
   "codemirror_mode": {
    "name": "ipython",
    "version": 3
   },
   "file_extension": ".py",
   "mimetype": "text/x-python",
   "name": "python",
   "nbconvert_exporter": "python",
   "pygments_lexer": "ipython3",
   "version": "3.13.2"
  }
 },
 "nbformat": 4,
 "nbformat_minor": 5
}
